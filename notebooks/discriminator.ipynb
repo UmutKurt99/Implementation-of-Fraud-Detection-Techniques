{
 "cells": [
  {
   "cell_type": "code",
   "execution_count": 3,
   "id": "4385fcd1-eb5b-4dd7-b2c4-6587e6d76f65",
   "metadata": {},
   "outputs": [],
   "source": [
    "import torch\n",
    "import numpy as np\n",
    "import pandas as pd \n",
    "import torch.nn as nn\n",
    "from torch.utils.data import DataLoader, TensorDataset\n",
    "\n",
    "class Discriminator(nn.Module):\n",
    "\n",
    "    \"\"\"\n",
    "        Class to represent the discriminator for Generative Adversarial Networks (GANs).\n",
    "\n",
    "        Attributes: \n",
    "            input_dim (int): Input dimension for the neural network layers.\n",
    "            hidden (int): Hidden units for hidden layers. \n",
    "    \"\"\"\n",
    "    \n",
    "    def __init__(self, input_dim = 30, hidden = 64):\n",
    "    \n",
    "        super(Discriminator, self).__init__()\n",
    "        self.input_dim = input_dim\n",
    "        self.hidden = hidden\n",
    "        \n",
    "        self.discriminator = nn.Sequential(\n",
    "            nn.Linear(self.input_dim, self.hidden*4),\n",
    "            nn.LeakyReLU(negative_slope = 0.1, inplace=True),\n",
    "            nn.Linear(self.hidden*4, self.hidden*2),\n",
    "            nn.LeakyReLU(negative_slope=0.1, inplace=True),\n",
    "            nn.Linear(self.hidden*2, self.hidden),\n",
    "            nn.LeakyReLU(negative_slope=0.1, inplace=True),\n",
    "            nn.Linear(self.hidden, 1),\n",
    "            nn.Sigmoid()\n",
    "        )\n",
    "    def forward(self, x):\n",
    "    \n",
    "        \"\"\"\n",
    "            Function to apply desired layers and activation functions. \n",
    "    \n",
    "            Parameters: \n",
    "                x (torch.tensor) : Input tensor. \n",
    "                \n",
    "            Returns: \n",
    "                torch.tensor : Logits or probabilities. \n",
    "        \"\"\"\n",
    "\n",
    "        \n",
    "        return self.discriminator(x)\n"
   ]
  }
 ],
 "metadata": {
  "kernelspec": {
   "display_name": "Python 3 (ipykernel)",
   "language": "python",
   "name": "python3"
  },
  "language_info": {
   "codemirror_mode": {
    "name": "ipython",
    "version": 3
   },
   "file_extension": ".py",
   "mimetype": "text/x-python",
   "name": "python",
   "nbconvert_exporter": "python",
   "pygments_lexer": "ipython3",
   "version": "3.10.13"
  }
 },
 "nbformat": 4,
 "nbformat_minor": 5
}
