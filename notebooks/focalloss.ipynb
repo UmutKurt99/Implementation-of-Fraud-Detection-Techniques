{
 "cells": [
  {
   "cell_type": "code",
   "execution_count": 3,
   "id": "795327ad-a384-4e79-91bd-4ee809278a88",
   "metadata": {},
   "outputs": [],
   "source": [
    "import torch\n",
    "import numpy as np\n",
    "import pandas as pd \n",
    "import torch.nn as nn\n",
    "from torch.utils.data import DataLoader, TensorDataset\n",
    "\n",
    "class FocalLoss(nn.Module):\n",
    "\n",
    "    \"\"\"\n",
    "        Class to represent the custom loss function, Focal Loss.\n",
    "\n",
    "        Attributes: \n",
    "            alpha (float): Balancing factor.  \n",
    "            gamma (float): Modulating factor to influence the impact of classifications.\n",
    "    \"\"\"\n",
    "    \n",
    "    def __init__(self, alpha, gamma): \n",
    "\n",
    "    \n",
    "        super().__init__()\n",
    "        self.alpha = alpha\n",
    "        self.gamma = gamma \n",
    "\n",
    "    def forward(self, y_pred_logits, y_true):\n",
    "\n",
    "        \"\"\"\n",
    "            Derives the focal loss from Binary Cross Entropy (BCE).\n",
    "\n",
    "            Returns: \n",
    "                loss function: The mean of the focal loss to be used as a loss function in neural networks. \n",
    "        \"\"\"\n",
    "        \n",
    "        BCE_loss = nn.BCEWithLogitsLoss(reduction=\"none\")\n",
    "\n",
    "        loss = BCE_loss(y_pred_logits, y_true)\n",
    "\n",
    "        pt = torch.exp(-loss)\n",
    "\n",
    "        focal = -self.alpha*((1-pt)**self.gamma)*torch.log(pt)\n",
    "\n",
    "        return focal.mean() "
   ]
  },
  {
   "cell_type": "markdown",
   "id": "c95dc72e-3ddc-4ccf-a032-92b79fb0bfc8",
   "metadata": {},
   "source": [
    "## References"
   ]
  },
  {
   "cell_type": "markdown",
   "id": "a1d2a9d4-ccca-4e44-aff7-5e607c349d87",
   "metadata": {},
   "source": [
    "1- VisionWizard. *Understand focal loss: A quick read*. Accessed on March 13, 2025, from https://medium.com/visionwizard/understanding-focal-loss-a-quick-read-b914422913e7\n",
    "\n",
    "2- PyTorch Discuss. *Is this a correct implementation for focal loss in PyTorch?* Accessed on March 14, 2025, from https://discuss.pytorch.org/t/is-this-a-correct-implementation-for-focal-loss-in-pytorch/43327/6\n",
    "\n",
    "3- Saturn Cloud. *How to use class weights with focal loss in PyTorch for imbalanced multiclass classification*. Accessed on May 12, 2025, from https://saturncloud.io/blog/how-to-use-class-weights-with-focal-loss-in-pytorch-for-imbalanced-multiclass-classification/\n",
    "\n",
    "4- Geek Culture. *Everything about focal loss*. Accessed on March 19, 2025, from https://medium.com/geekculture/everything-about-focal-loss-f2d8ab294133\n"
   ]
  }
 ],
 "metadata": {
  "kernelspec": {
   "display_name": "Python 3 (ipykernel)",
   "language": "python",
   "name": "python3"
  },
  "language_info": {
   "codemirror_mode": {
    "name": "ipython",
    "version": 3
   },
   "file_extension": ".py",
   "mimetype": "text/x-python",
   "name": "python",
   "nbconvert_exporter": "python",
   "pygments_lexer": "ipython3",
   "version": "3.10.13"
  }
 },
 "nbformat": 4,
 "nbformat_minor": 5
}
