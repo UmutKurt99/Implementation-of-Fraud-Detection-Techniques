{
 "cells": [
  {
   "cell_type": "code",
   "execution_count": 1,
   "id": "579f5896-685f-4ae9-b73d-eaddd8e18b85",
   "metadata": {},
   "outputs": [],
   "source": [
    "import torch \n",
    "import torch.nn as nn\n",
    "import numpy as np\n",
    "\n",
    "class MFELoss(nn.Module):\n",
    "\n",
    "    \"\"\"\n",
    "        Class to represent the Mean False Error loss. \n",
    "\n",
    "    \"\"\"\n",
    "    \n",
    "    def __init__(self):\n",
    "\n",
    "        super(MFELoss, self).__init__()\n",
    "\n",
    "    def forward(self, pred, target):\n",
    "\n",
    "        \"\"\"\n",
    "            Forward function to create the loss function to be used in neural networks. \n",
    "\n",
    "            Args:\n",
    "                pred (torch.tensor): Tensor for predicted values.\n",
    "                target (torch.tensor): Tensor for target values.\n",
    "\n",
    "            Returns: \n",
    "                loss: The Mean False Error loss for imbalanced datasets. \n",
    "        \"\"\"\n",
    "        \n",
    "        yi = torch.sigmoid(pred)\n",
    "\n",
    "        error = ((target-yi)**2)/2\n",
    "\n",
    "        N_tot = torch.sum(error*(target==0), dtype=torch.float32)\n",
    "        P_tot = torch.sum(error*(target==1), dtype=torch.float32)\n",
    "\n",
    "        fne = N_tot / (torch.sum((target == 0), dtype=torch.float32))\n",
    "        fpe = P_tot / (torch.sum((target==1), dtype=torch.float32))\n",
    "\n",
    "        loss = fne + fpe \n",
    "\n",
    "        return loss\n",
    "        "
   ]
  },
  {
   "cell_type": "markdown",
   "id": "0deba064-9289-40e0-9d03-f53c8ff06d94",
   "metadata": {},
   "source": [
    "## References"
   ]
  },
  {
   "cell_type": "markdown",
   "id": "94a7649b-46d5-4932-8bb4-19fec2020659",
   "metadata": {},
   "source": [
    "1- Machine Learning Mastery. *Loss functions in PyTorch models*. Accessed on March 17, 2025, from https://machinelearningmastery.com/loss-functions-in-pytorch-models/\n",
    "\n",
    "2- Kamal, M. *Writing a custom loss in PyTorch part 1*. Accessed on March 17, 2025, from https://medium.com/@mustafa.kamalzhd/writing-a-custom-loss-in-pytorch-part-1-7dd857934f48#:~:text=To%20write%20a%20custom%20loss,input%20and%20computes%20the%20loss"
   ]
  }
 ],
 "metadata": {
  "kernelspec": {
   "display_name": "Python 3 (ipykernel)",
   "language": "python",
   "name": "python3"
  },
  "language_info": {
   "codemirror_mode": {
    "name": "ipython",
    "version": 3
   },
   "file_extension": ".py",
   "mimetype": "text/x-python",
   "name": "python",
   "nbconvert_exporter": "python",
   "pygments_lexer": "ipython3",
   "version": "3.10.13"
  }
 },
 "nbformat": 4,
 "nbformat_minor": 5
}
